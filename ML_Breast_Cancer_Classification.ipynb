{
 "cells": [
  {
   "cell_type": "markdown",
   "id": "41911f9f-e185-42e2-9489-9ca33fd86d06",
   "metadata": {},
   "source": [
    "# Cell Image Classification 🧬\n",
    "\n",
    "<img src=\"cancer-normal-cell-image.png\" width=500 alt=\"The morphplogical difference between breast cancer cells and normal cancer cells.\">\n",
    "\n",
    "## ML Project Overview\n",
    "\n",
    "In this project, I have applied some popular machine learning techniques to the problem of classifying data from histological cell images for the diagnosis of malignant breast cancer. This will be presented as a practical scenario where I am approached by a client to solve a problem.  \n",
    "\n",
    "The main aims of this project are: \n",
    "\n",
    "- to use the best practice machine learning workflow for producing a solution to a client's problem;\n",
    "- to visualise data and determine the best pre-processing;\n",
    "- to create the necessary datasets for training and testing purposes;\n",
    "- to train and optimise a selection of models, then choose the best;\n",
    "- to obtain an unbiased measurement of the final model's performance;\n",
    "- to interpret results clearly and concisely.\n",
    "\n",
    "This project relates to the following 💻 ACS CBOK areas: \n",
    "- abstraction,\n",
    "- design,\n",
    "- hardware and software,\n",
    "- data and information,\n",
    "- HCI and programming.\n",
    "\n",
    "🌸*By Oveena Widyaratne*"
   ]
  },
  {
   "cell_type": "markdown",
   "id": "7ebe1cd8-409b-4216-80d3-8cd913d0029e",
   "metadata": {},
   "source": [
    "## Hypothetical Scenario:\n",
    "\n",
    "💼 A client approaches to solve a machine learning problem for them. \n",
    "\n",
    "⚕️They run a pathology lab that processes histological images for healthcare providers and they have created a product that measures the same features as in the *Wisconsin breast cancer data set* though using different acquisitions and processing methods. This makes their method much faster than existing ones, but it is also slightly noisier. The dataset contains measurements of several features that describe characteristics of cell nuclei present in digital images of breast tissue samples. These features include the mean, standard error, and \"worst\" (i.e., largest) values of measurements such as radius, texture, perimeter, area, smoothness, compactness, concavity, concave points, symmetry, and fractal dimension. Each feature is represented by a numeric value, and each data point represents a sample from either a malignant (cancerous) or benign (non-cancerous) breast tissue.\n",
    "\n",
    "👩‍⚕️The client want to be able to diagnose *malignant* cancer (and distinguish them from *benign* growths) by employing machine learning techniques, and they have asked us to implement this for them.\n",
    "\n",
    "Their requirements are:\n",
    " 1) have at least a 95% probability of detecting malignant cancer when it is present;\n",
    " 2) have no more than 1 in 10 healthy cases (those with benign tumours) labelled as positive (malignant).\n",
    " \n",
    "They have hand-labelled **300 samples** for you, which is all they have at the moment."
   ]
  },
  {
   "cell_type": "code",
   "execution_count": 131,
   "id": "61ca4b4e-9f64-4b6d-a12a-f646b1958738",
   "metadata": {},
   "outputs": [],
   "source": [
    "# This code imports some libraries needed. \n",
    "\n",
    "# Common imports\n",
    "import sys\n",
    "import numpy as np\n",
    "import time\n",
    "import pandas as pd\n",
    "import sklearn\n",
    "from sklearn import tree\n",
    "from sklearn import svm\n",
    "from sklearn.pipeline import Pipeline\n",
    "from sklearn.preprocessing import StandardScaler\n",
    "from sklearn.model_selection import GridSearchCV\n",
    "from sklearn.metrics import confusion_matrix\n",
    "import re\n",
    "\n",
    "# Plot setup\n",
    "import matplotlib as mpl\n",
    "import matplotlib.pyplot as plt\n",
    "import seaborn as sns\n",
    "mpl.rc('axes', labelsize=7)\n",
    "mpl.rc('xtick', labelsize=6)\n",
    "mpl.rc('ytick', labelsize=6)\n",
    "mpl.rc('figure', dpi=240)\n",
    "plt.close('all')"
   ]
  },
  {
   "cell_type": "markdown",
   "id": "81108ab4-abf3-4ca5-84a0-1ec4f19cc9b7",
   "metadata": {},
   "source": [
    "### Step 01\n",
    "Load the dataset from the csv file, `winconsin-dataset.csv`. Extract the feature names for use later on. The first column is our target and it contains the labels (benign and malignant). Note that we will be treating the _malignant_ case as our _positive_ case, as this is the **standard convention in medicine**."
   ]
  },
  {
   "cell_type": "code",
   "execution_count": 17,
   "id": "2575a48e-95a6-4e4c-92eb-a24403d069e2",
   "metadata": {},
   "outputs": [],
   "source": [
    "data = pd.read_csv(\"winconsin-dataset.csv\")\n",
    "\n",
    "feature_names = data.columns[1:]\n",
    "\n",
    "# variable that contains the answer from this step is the one assigned to step1_1data\n",
    "step1_data = feature_names"
   ]
  },
  {
   "cell_type": "markdown",
   "id": "3363d3f1-6ba8-4df5-8e3b-7dffe9cdf0b7",
   "metadata": {},
   "source": [
    "### Step 02\n",
    "As this data is well curated we do not need to worry about outliers, missing values or imputation in this case, but be aware that this is the exception, not the rule.\n",
    "\n",
    "To familiarise with the nature and information contained in the data, we then display histograms for the data:\n",
    " - Isolate each group of features (mean, standard error, and worst) into its own DataFrame.\n",
    " - Display histograms for each feature in the _mean_ group.\n",
    " - On _each_ histogram the two classes displayed together in one plot **repeat this** for the _standard error_ and _worst_ groups; \n",
    "\n",
    "**Based on the histograms and using the function *corr()* or *numpy corrcoef()* which do you think are the 3 strongest features for discriminating between the classes?**"
   ]
  },
  {
   "cell_type": "code",
   "execution_count": 20,
   "id": "bade461b-5f2a-4fd9-92c4-a37d5dfeb59f",
   "metadata": {},
   "outputs": [
    {
     "name": "stdout",
     "output_type": "stream",
     "text": [
      "Top 3 strongest features:  ['worst concave points', 'worst perimeter', 'worst radius']\n"
     ]
    }
   ],
   "source": [
    "# Convert labels to 0 (benign) and 1 (malignant)\n",
    "data['label'] = data['label'].map({'benign': 0, 'malignant': 1})\n",
    "\n",
    "# Separate the mean, standard error, and worst groups into separate dataframes\n",
    "mean_group = data.iloc[:, 1:11]\n",
    "error_group = data.iloc[:, 11:21]\n",
    "worst_group = data.iloc[:, 21:]\n",
    "\n",
    "class_labels = ['benign', 'malignant'] \n",
    "\n",
    "# Plotting the histograms with both classes displayed together for each of the features\n",
    "def plot_histograms(data_group, class_labels):\n",
    "    fig = plt.figure(figsize=(12, 8)) \n",
    "    for i, feature in enumerate(data_group.columns):  \n",
    "        plt.subplot(3, 4, i+1)  \n",
    "        plt.hist([data_group[feature][data['label'] == 0], data_group[feature][data['label'] == 1]], label=class_labels)  \n",
    "        plt.xlabel(\"Feature Value\")  \n",
    "        plt.ylabel(\"Frequency\")  \n",
    "        plt.legend() \n",
    "        plt.title(feature)\n",
    "    plt.tight_layout()\n",
    "    plt.show() \n",
    "\n",
    "# plot_histograms(mean_group, class_labels)\n",
    "# plot_histograms(error_group, class_labels)\n",
    "# plot_histograms(worst_group, class_labels)\n",
    "\n",
    "# Calculate the correlation of each feature with the label\n",
    "corr = data.corr()\n",
    "feature_corr = corr['label'].drop('label')\n",
    "\n",
    "# Get the top 3 features with the highest correlation\n",
    "ranked_features = feature_corr.abs().sort_values(ascending=False).head(3).index.tolist()\n",
    "print(\"Top 3 strongest features: \", ranked_features)\n",
    "\n",
    "# The following code is used by the autograder\n",
    "step2_data = ranked_features"
   ]
  },
  {
   "cell_type": "markdown",
   "id": "242fcfd2-b6b4-427f-81a7-1c8b6410bb1d",
   "metadata": {},
   "source": [
    "## Step 03 \n",
    "\n",
    "Converting the labels into 0s and 1s so that benign is represented by 0 and malignant is represented by 1.\n",
    "\n",
    "Spliting the dataset into appropriate subsets for training, validation and test sets."
   ]
  },
  {
   "cell_type": "code",
   "execution_count": 25,
   "id": "f6475e33-6c21-462e-9e63-75bdf751c9a2",
   "metadata": {},
   "outputs": [
    {
     "name": "stdout",
     "output_type": "stream",
     "text": [
      "Training set size:  240\n",
      "Validation set size:  30\n",
      "Test set size:  30\n"
     ]
    }
   ],
   "source": [
    "from sklearn.model_selection import train_test_split\n",
    "\n",
    "# Split dataset into features and target variable\n",
    "X = data.iloc[:, 1:]\n",
    "y = data['label']\n",
    "\n",
    "# Split dataset into training, validation, and test sets\n",
    "X_train, X_test, y_train, y_test = train_test_split(X, y, test_size=0.1, random_state=42, stratify=y)\n",
    "X_train, X_val, y_train, y_val = train_test_split(X_train, y_train, test_size=0.111, random_state=42, stratify=y_train)\n",
    "\n",
    "# Print the size of each resulting subset\n",
    "print(\"Training set size: \", len(X_train))\n",
    "print(\"Validation set size: \", len(X_val))\n",
    "print(\"Test set size: \", len(X_test))"
   ]
  },
  {
   "cell_type": "markdown",
   "id": "1e75a09c-d13d-4204-9d79-db5547485954",
   "metadata": {},
   "source": [
    "### Step 04\n",
    "Baseline measurements\n",
    "For our classification task we will consider three simple baseline cases:\n",
    "1. predicting all samples to be negative (class 1)\n",
    "2. predicting all samples to be positive (class 2)\n",
    "3. making a random prediction for each sample with equal probability for each class"
   ]
  },
  {
   "cell_type": "code",
   "execution_count": 32,
   "id": "10915292-0e0f-4716-ba83-ff68ed6caac1",
   "metadata": {},
   "outputs": [],
   "source": [
    "# create arrays to hold the predicted labels for each baseline case\n",
    "baseline1_preds = np.zeros(len(data), dtype=int)\n",
    "baseline2_preds = np.ones(len(data), dtype=int)\n",
    "baseline3_preds = np.random.choice([0, 1], size=len(data))"
   ]
  },
  {
   "cell_type": "markdown",
   "id": "57b21c68-244f-4304-ae77-19d859ff694d",
   "metadata": {},
   "source": [
    "### Step 05\n",
    "\n",
    "Writing a function that returns the following metrics for all baseline measures created in Step 04, use the function and print the metrics:\n",
    "\n",
    " - recall\n",
    " - precision\n",
    " - auc\n",
    " - f1score"
   ]
  },
  {
   "cell_type": "code",
   "execution_count": 37,
   "id": "3429c3f9-5bcc-4c59-a4aa-6ae826d1ef97",
   "metadata": {},
   "outputs": [
    {
     "name": "stdout",
     "output_type": "stream",
     "text": [
      "Baseline 1\n",
      "Recall:  0.0\n",
      "Precision:  0.0\n",
      "AUC:  0.5\n",
      "F1:  0.0\n",
      "\n",
      "Baseline 2\n",
      "Recall:  1.0\n",
      "Precision:  0.4866666666666667\n",
      "AUC:  0.5\n",
      "F1:  0.6547085201793722\n",
      "\n",
      "Baseline 3\n",
      "Recall:  0.5342465753424658\n",
      "Precision:  0.484472049689441\n",
      "AUC:  0.4976427681907134\n",
      "F1:  0.50814332247557\n",
      "\n"
     ]
    },
    {
     "name": "stderr",
     "output_type": "stream",
     "text": [
      "C:\\Users\\xveen\\anaconda3\\Lib\\site-packages\\sklearn\\metrics\\_classification.py:1509: UndefinedMetricWarning: Precision is ill-defined and being set to 0.0 due to no predicted samples. Use `zero_division` parameter to control this behavior.\n",
      "  _warn_prf(average, modifier, f\"{metric.capitalize()} is\", len(result))\n"
     ]
    }
   ],
   "source": [
    "from sklearn.metrics import recall_score, precision_score, roc_auc_score, f1_score\n",
    "\n",
    "def calculate_metrics(y_true, y_pred):\n",
    "    # Convert probabilities to class predictions using 0.5 as the threshold\n",
    "    y_pred = np.array(y_pred).flatten()\n",
    "    y_pred_class = (y_pred > 0.5).astype(int)\n",
    "    # Calculate metrics\n",
    "    rec = recall_score(y_true, y_pred_class)\n",
    "    prec = precision_score(y_true, y_pred_class)\n",
    "    auc = roc_auc_score(y_true, y_pred)\n",
    "    f1 = f1_score(y_true, y_pred_class)\n",
    "    return rec, prec, auc, f1\n",
    "\n",
    "b1_metrics = calculate_metrics(data['label'], baseline1_preds)\n",
    "b2_metrics = calculate_metrics(data['label'], baseline2_preds)\n",
    "b3_metrics = calculate_metrics(data['label'], baseline3_preds)\n",
    "\n",
    "for i, metrics in enumerate([b1_metrics, b2_metrics, b3_metrics]):\n",
    "    print(\"Baseline\", i+1)\n",
    "    print(\"Recall: \", metrics[0])\n",
    "    print(\"Precision: \", metrics[1])\n",
    "    print(\"AUC: \", metrics[2])\n",
    "    print(\"F1: \", metrics[3])\n",
    "    print()\n",
    "\n",
    "# The following code is used by the autograder.\n",
    "step5_data = calculate_metrics"
   ]
  },
  {
   "cell_type": "markdown",
   "id": "03a99682-8775-4cc0-970c-1f5c277d1d25",
   "metadata": {},
   "source": [
    " ### Step 06\n",
    "\n",
    "Next, we create a function which takes in the true labels and the predictions and returns the following parameters:\n",
    "\n",
    "* Number of True Positives (TP)\n",
    "* Number of True Negatives (TN)\n",
    "* Number of False Positive (FP)\n",
    "* Number of False Negative (FN)"
   ]
  },
  {
   "cell_type": "code",
   "execution_count": 43,
   "id": "f6f7f7f5-7db2-49b0-b059-f6883c3826fc",
   "metadata": {},
   "outputs": [],
   "source": [
    "# This function returns the number of TP, TN, FP, FN.\n",
    "def get_values(y_true, y_pred):\n",
    "    y_true = np.array(y_true)\n",
    "    y_pred = np.array(y_pred)\n",
    "    tp = np.sum((y_true == 1) & (y_pred == 1))\n",
    "    tn = np.sum((y_true == 0) & (y_pred == 0))\n",
    "    fp = np.sum((y_true == 0) & (y_pred == 1))\n",
    "    fn = np.sum((y_true == 1) & (y_pred == 0))\n",
    "    return tp, tn, fp, fn"
   ]
  },
  {
   "cell_type": "markdown",
   "id": "9199b83a-0c0f-4bd1-8cb2-1e3488713eb0",
   "metadata": {},
   "source": [
    "### Step 07 \n",
    "Based on the above baseline tests and the client's requirements, we **choose a performance metric** to use for evaluating/driving our machine learning methods:\n",
    "* For AUC - \"roc_auc\"\n",
    "* For recall - \"recall\"\n",
    "* For precision - \"precision\"\n",
    "* For F1 Score - \"f1\"\n",
    "\n",
    "***NOTE:*** Not all the metrics are equally useful for meeting the requirements of the client, thereby, choose only the one most suitable metric."
   ]
  },
  {
   "cell_type": "code",
   "execution_count": 46,
   "id": "3ba03162-4cac-42ee-b3ae-61d10a298293",
   "metadata": {},
   "outputs": [],
   "source": [
    "# Choose the best metric of the five and assign to the variable below. The variable takes a string.\n",
    "chosen_metric = 'roc_auc'"
   ]
  },
  {
   "cell_type": "markdown",
   "id": "aa0e3137-ab64-4716-ab74-b42838e3f34b",
   "metadata": {},
   "source": [
    "### Step 08\n",
    "**Creating a SGD baseline**\n",
    "\n",
    "For a stronger baseline, I will be **training the Stochastic Gradient Descent classifier (SGD) model** on the training data and evaluate it on the validation data. \n",
    "I will use a Pipeline for this which considers the preprocessing and the SGD model. For this baseline case I will use the default settings for all the hyperparameters."
   ]
  },
  {
   "cell_type": "code",
   "execution_count": 49,
   "id": "96708186-6717-447a-a1fc-6dfe3749c3c3",
   "metadata": {},
   "outputs": [],
   "source": [
    "from sklearn.impute import SimpleImputer\n",
    "from sklearn.linear_model import SGDClassifier\n",
    "\n",
    "# Create pre-processing pipeline\n",
    "preproc_pl = Pipeline([\n",
    "    ('imputer', SimpleImputer(strategy='mean')),\n",
    "    ('scaler', StandardScaler())\n",
    "])\n",
    "\n",
    "# Create SGD model pipeline which has preproc_pl as the pre-processing part\n",
    "sgd_base = Pipeline([\n",
    "    ('preprocessing', preproc_pl),\n",
    "    ('sgd', SGDClassifier(random_state=42))\n",
    "])\n",
    "\n",
    "# fit the SGD pipeline on the training data\n",
    "sgd_base.fit(X_train, y_train)\n",
    "\n",
    "# evaluate on the validation data\n",
    "y_val_preds = sgd_base.predict(X_val)\n",
    "\n",
    "# Calculate metrics\n",
    "sgd_val_metrics = calculate_metrics(y_val, y_val_preds)"
   ]
  },
  {
   "cell_type": "markdown",
   "id": "f53dce90-3450-4846-8fde-4fe64ccddbcb",
   "metadata": {},
   "source": [
    "### Step 09\n",
    "\n",
    "On the validation data, we calculate and print or display the **normalised** version of the confusion matrix.  Given the normalised confusion matrix, **what is the _probability_ that a sample from a person with a malignant tumour is given a result that they do not have cancer?  Which of the client's two criteria does this relate to, and is this baseline satisfying this criterion or not?**"
   ]
  },
  {
   "cell_type": "code",
   "execution_count": 55,
   "id": "d2135ce3-ccd3-417f-b32f-cffcfe422141",
   "metadata": {},
   "outputs": [
    {
     "name": "stdout",
     "output_type": "stream",
     "text": [
      "[[1.         0.        ]\n",
      " [0.06666667 0.93333333]]\n",
      "Satisfy: NO\n"
     ]
    }
   ],
   "source": [
    "# Confusion matrix here\n",
    "cmat = confusion_matrix(y_val, y_val_preds, normalize='true')\n",
    "\n",
    "# Display or print cmat\n",
    "print(cmat)\n",
    "\n",
    "# Assign the required probability to the variable below\n",
    "required_prob = cmat[1, 0]\n",
    "# Choose which of the client's two criteria does this relate to (1 or 2)\n",
    "criteria = 1\n",
    "# Does the baseline model satisfy this criterion? (\"YES\" or \"NO\")\n",
    "satisfy = \"YES\" if required_prob <= 0.05 else \"NO\"\n",
    "print(\"Satisfy:\", satisfy)"
   ]
  },
  {
   "cell_type": "markdown",
   "id": "0f50b1ed-8529-4e95-b81d-6d46b7dd39a8",
   "metadata": {},
   "source": [
    "#### Main classifier \n",
    "\n",
    "In this part, I need to try different models for classification, check their performance and determine the best for the present scenario.\n",
    "\n",
    "We want to strike a balance between computation time and performance using **GridSearchCV** to try and display the performance of the different classifiers and the optimised hyperparameters."
   ]
  },
  {
   "cell_type": "markdown",
   "id": "d4fe3813-c89c-4a2a-803e-886b123c966c",
   "metadata": {},
   "source": [
    "### Step 10\n",
    "\n",
    "**Train and optimise the hyperparameters** to give the best performance for a **KNN (K-Nearest Neighbour)** classifier. For this model we consider and  evaluate the following parameters:\n",
    "\n",
    "* n_neighbors (with no value greater than 20)\n",
    "* weights\n",
    "* algorithm\n",
    "* metric\n",
    "* p (with no value greater than 20)\n",
    "\n",
    "I have read the documentation about this model to find some proper ranges and ensure that I use the pipeline created in **Step 08** to train this model. **How to decide what are the best setting of parameters? -> use the best metric identified in the Step 07**."
   ]
  },
  {
   "cell_type": "code",
   "execution_count": 63,
   "id": "4d43476d-9b60-4706-860f-c7c3ceb544e2",
   "metadata": {},
   "outputs": [
    {
     "name": "stdout",
     "output_type": "stream",
     "text": [
      "Fitting 5 folds for each of 800 candidates, totalling 4000 fits\n",
      "Best parameters for KNN: {'knn__algorithm': 'auto', 'knn__metric': 'euclidean', 'knn__n_neighbors': 15, 'knn__p': 1, 'knn__weights': 'uniform'}\n"
     ]
    }
   ],
   "source": [
    "# Write your solution here\n",
    "from sklearn.neighbors import KNeighborsClassifier\n",
    "\n",
    "# Put the pipeline with the appropriate model \n",
    "knn_pl = Pipeline([\n",
    "    ('preprocessing', preproc_pl),\n",
    "    ('knn', KNeighborsClassifier())\n",
    "])\n",
    "\n",
    "# Define the parameter grid for KNN\n",
    "param_grid_knn = {\n",
    "    'knn__n_neighbors': [1, 5, 8, 15, 20],\n",
    "    'knn__weights': ['uniform', 'distance'],\n",
    "    'knn__algorithm': ['auto', 'ball_tree', 'kd_tree', 'brute'],\n",
    "    'knn__metric': ['euclidean', 'manhattan', 'chebyshev', 'minkowski'],\n",
    "    'knn__p': [1, 5, 10, 15, 20]\n",
    "}\n",
    "\n",
    "# Use GridSearchCV here with cv=5\n",
    "knn_model = GridSearchCV(knn_pl, param_grid=param_grid_knn, cv=5, scoring=chosen_metric, verbose=1, return_train_score=True)\n",
    "\n",
    "# Fit the model to the training data\n",
    "knn_model.fit(X_train, y_train)\n",
    "\n",
    "# Return best parameters in a dictionary\n",
    "knn_best_parameters = knn_model.best_params_\n",
    "print(\"Best parameters for KNN:\", knn_best_parameters)"
   ]
  },
  {
   "cell_type": "markdown",
   "id": "edc87653-57cb-4102-b157-223cb1f075fd",
   "metadata": {},
   "source": [
    "### Step 11\n",
    "**Train and optimise the hyperparameters** to give the best performance for a **Decision tree classifier** classifier. For this model consider and  evaluate the following parameters:\n",
    "\n",
    "* criterion\n",
    "* max_depth (with no value greater than 20)\n",
    "* min_samples_split (with no value greater than 20)\n",
    "* min_samples_leaf (with no value greater than 20)\n",
    "* max_features"
   ]
  },
  {
   "cell_type": "code",
   "execution_count": 65,
   "id": "5bdee980-d1e3-47d9-a22a-b34fb3c9627f",
   "metadata": {},
   "outputs": [
    {
     "name": "stdout",
     "output_type": "stream",
     "text": [
      "Fitting 5 folds for each of 600 candidates, totalling 3000 fits\n",
      "Best parameters for Decision Tree: {'dt__criterion': 'entropy', 'dt__max_depth': 5, 'dt__max_features': 'log2', 'dt__min_samples_leaf': 1, 'dt__min_samples_split': 20}\n"
     ]
    }
   ],
   "source": [
    "from sklearn.tree import DecisionTreeClassifier\n",
    "\n",
    "# Put the pipeline with the appropriate model \n",
    "dt_pl = Pipeline([\n",
    "    ('preprocessing', preproc_pl),\n",
    "    ('dt', DecisionTreeClassifier(random_state=42))\n",
    "])\n",
    "\n",
    "param_grid_dt = {\n",
    "    'dt__criterion': ['gini', 'entropy'],\n",
    "    'dt__max_depth': [1, 3, 5, 10, 15, 20],\n",
    "    'dt__min_samples_split': [2, 5, 10, 15, 20], \n",
    "    'dt__min_samples_leaf': [1, 5, 11, 15, 20],\n",
    "    'dt__max_features': ['sqrt', 'log2']\n",
    "}\n",
    "\n",
    "# Use GridSearchCV with cv=5\n",
    "dt_model = GridSearchCV(dt_pl, param_grid=param_grid_dt, cv=5, scoring=chosen_metric, verbose=1, return_train_score=True)\n",
    "\n",
    "# Fit the model to the training data\n",
    "dt_model.fit(X_train, y_train)\n",
    "\n",
    "# Return best parameters in a dictionary\n",
    "dt_best_parameters = dt_model.best_params_\n",
    "print(\"Best parameters for Decision Tree:\", dt_best_parameters)"
   ]
  },
  {
   "cell_type": "markdown",
   "id": "5dcb1516-ac42-4b9d-a470-3f31eef02ac3",
   "metadata": {},
   "source": [
    "### Step 12\n",
    "Next steo is to **train and optimise the hyperparameters** to give the best performance for a **C-Support Vector Classification** classifier. For this model we can consider and evaluate the following parameters:\n",
    "\n",
    "* C. Regularisation parameter (with no value greater than 100)\n",
    "* kernel\n",
    "* gamma"
   ]
  },
  {
   "cell_type": "code",
   "execution_count": 70,
   "id": "52df7817-1c07-470f-a92e-9eb73c0bcd52",
   "metadata": {},
   "outputs": [
    {
     "name": "stdout",
     "output_type": "stream",
     "text": [
      "Fitting 5 folds for each of 32 candidates, totalling 160 fits\n",
      "Best parameters for SVC: {'svc__C': 1, 'svc__gamma': 'scale', 'svc__kernel': 'rbf'}\n"
     ]
    }
   ],
   "source": [
    "from sklearn.svm import SVC\n",
    "# Put the pipeline with the appropriate model \n",
    "svc_pl = Pipeline([\n",
    "    ('preprocessing', preproc_pl),\n",
    "    ('svc', SVC(random_state=42))\n",
    "])\n",
    "\n",
    "# Defining the parameter grid for the Support Vector Classification\n",
    "param_grid_svc = {\n",
    "    'svc__C': [0.1, 1, 10, 100],\n",
    "    'svc__kernel': ['linear', 'rbf', 'poly', 'sigmoid'],\n",
    "    'svc__gamma': ['scale', 'auto']\n",
    "}\n",
    "\n",
    "# Use GridSearchCV with cv=5 \n",
    "svc_model = svc_model = GridSearchCV(svc_pl, param_grid=param_grid_svc, cv=5, scoring=chosen_metric, verbose=1, return_train_score=True)\n",
    "\n",
    "# Trying to fit my model into the training data set\n",
    "svc_model.fit(X_train, y_train)\n",
    "\n",
    "# Return best parameters in a dictionary\n",
    "svc_best_parameters = svc_model.best_params_\n",
    "print(\"Best parameters for SVC:\", svc_best_parameters)"
   ]
  },
  {
   "cell_type": "markdown",
   "id": "729679dd-a070-4481-b850-29301c82bd17",
   "metadata": {},
   "source": [
    "### Step 13\n",
    "We then try **train and optimise the hyperparameters** to give the best performance for a **SGD classifier** classifier. For this model consider and  evaluate the following parameters:\n",
    "* loss \n",
    "* penalty\n",
    "* alpha (with no value greater than 100)\n",
    "* learning_rate\n",
    "* eta0 (with no value greater than 100)\n"
   ]
  },
  {
   "cell_type": "code",
   "execution_count": 72,
   "id": "9e912e99-d749-4828-b704-e4a9193ea1bb",
   "metadata": {},
   "outputs": [
    {
     "name": "stdout",
     "output_type": "stream",
     "text": [
      "Fitting 5 folds for each of 1200 candidates, totalling 6000 fits\n"
     ]
    },
    {
     "name": "stderr",
     "output_type": "stream",
     "text": [
      "C:\\Users\\xveen\\anaconda3\\Lib\\site-packages\\sklearn\\linear_model\\_stochastic_gradient.py:723: ConvergenceWarning: Maximum number of iteration reached before convergence. Consider increasing max_iter to improve the fit.\n",
      "  warnings.warn(\n",
      "C:\\Users\\xveen\\anaconda3\\Lib\\site-packages\\sklearn\\linear_model\\_stochastic_gradient.py:723: ConvergenceWarning: Maximum number of iteration reached before convergence. Consider increasing max_iter to improve the fit.\n",
      "  warnings.warn(\n",
      "C:\\Users\\xveen\\anaconda3\\Lib\\site-packages\\sklearn\\linear_model\\_stochastic_gradient.py:723: ConvergenceWarning: Maximum number of iteration reached before convergence. Consider increasing max_iter to improve the fit.\n",
      "  warnings.warn(\n",
      "C:\\Users\\xveen\\anaconda3\\Lib\\site-packages\\sklearn\\linear_model\\_stochastic_gradient.py:723: ConvergenceWarning: Maximum number of iteration reached before convergence. Consider increasing max_iter to improve the fit.\n",
      "  warnings.warn(\n",
      "C:\\Users\\xveen\\anaconda3\\Lib\\site-packages\\sklearn\\linear_model\\_stochastic_gradient.py:723: ConvergenceWarning: Maximum number of iteration reached before convergence. Consider increasing max_iter to improve the fit.\n",
      "  warnings.warn(\n",
      "C:\\Users\\xveen\\anaconda3\\Lib\\site-packages\\sklearn\\linear_model\\_stochastic_gradient.py:723: ConvergenceWarning: Maximum number of iteration reached before convergence. Consider increasing max_iter to improve the fit.\n",
      "  warnings.warn(\n",
      "C:\\Users\\xveen\\anaconda3\\Lib\\site-packages\\sklearn\\linear_model\\_stochastic_gradient.py:723: ConvergenceWarning: Maximum number of iteration reached before convergence. Consider increasing max_iter to improve the fit.\n",
      "  warnings.warn(\n",
      "C:\\Users\\xveen\\anaconda3\\Lib\\site-packages\\sklearn\\linear_model\\_stochastic_gradient.py:723: ConvergenceWarning: Maximum number of iteration reached before convergence. Consider increasing max_iter to improve the fit.\n",
      "  warnings.warn(\n",
      "C:\\Users\\xveen\\anaconda3\\Lib\\site-packages\\sklearn\\linear_model\\_stochastic_gradient.py:723: ConvergenceWarning: Maximum number of iteration reached before convergence. Consider increasing max_iter to improve the fit.\n",
      "  warnings.warn(\n",
      "C:\\Users\\xveen\\anaconda3\\Lib\\site-packages\\sklearn\\linear_model\\_stochastic_gradient.py:723: ConvergenceWarning: Maximum number of iteration reached before convergence. Consider increasing max_iter to improve the fit.\n",
      "  warnings.warn(\n",
      "C:\\Users\\xveen\\anaconda3\\Lib\\site-packages\\sklearn\\linear_model\\_stochastic_gradient.py:723: ConvergenceWarning: Maximum number of iteration reached before convergence. Consider increasing max_iter to improve the fit.\n",
      "  warnings.warn(\n",
      "C:\\Users\\xveen\\anaconda3\\Lib\\site-packages\\sklearn\\linear_model\\_stochastic_gradient.py:723: ConvergenceWarning: Maximum number of iteration reached before convergence. Consider increasing max_iter to improve the fit.\n",
      "  warnings.warn(\n",
      "C:\\Users\\xveen\\anaconda3\\Lib\\site-packages\\sklearn\\linear_model\\_stochastic_gradient.py:723: ConvergenceWarning: Maximum number of iteration reached before convergence. Consider increasing max_iter to improve the fit.\n",
      "  warnings.warn(\n",
      "C:\\Users\\xveen\\anaconda3\\Lib\\site-packages\\sklearn\\linear_model\\_stochastic_gradient.py:723: ConvergenceWarning: Maximum number of iteration reached before convergence. Consider increasing max_iter to improve the fit.\n",
      "  warnings.warn(\n",
      "C:\\Users\\xveen\\anaconda3\\Lib\\site-packages\\sklearn\\linear_model\\_stochastic_gradient.py:723: ConvergenceWarning: Maximum number of iteration reached before convergence. Consider increasing max_iter to improve the fit.\n",
      "  warnings.warn(\n",
      "C:\\Users\\xveen\\anaconda3\\Lib\\site-packages\\sklearn\\linear_model\\_stochastic_gradient.py:723: ConvergenceWarning: Maximum number of iteration reached before convergence. Consider increasing max_iter to improve the fit.\n",
      "  warnings.warn(\n",
      "C:\\Users\\xveen\\anaconda3\\Lib\\site-packages\\sklearn\\linear_model\\_stochastic_gradient.py:723: ConvergenceWarning: Maximum number of iteration reached before convergence. Consider increasing max_iter to improve the fit.\n",
      "  warnings.warn(\n",
      "C:\\Users\\xveen\\anaconda3\\Lib\\site-packages\\sklearn\\linear_model\\_stochastic_gradient.py:723: ConvergenceWarning: Maximum number of iteration reached before convergence. Consider increasing max_iter to improve the fit.\n",
      "  warnings.warn(\n",
      "C:\\Users\\xveen\\anaconda3\\Lib\\site-packages\\sklearn\\linear_model\\_stochastic_gradient.py:723: ConvergenceWarning: Maximum number of iteration reached before convergence. Consider increasing max_iter to improve the fit.\n",
      "  warnings.warn(\n",
      "C:\\Users\\xveen\\anaconda3\\Lib\\site-packages\\sklearn\\linear_model\\_stochastic_gradient.py:723: ConvergenceWarning: Maximum number of iteration reached before convergence. Consider increasing max_iter to improve the fit.\n",
      "  warnings.warn(\n",
      "C:\\Users\\xveen\\anaconda3\\Lib\\site-packages\\sklearn\\linear_model\\_stochastic_gradient.py:723: ConvergenceWarning: Maximum number of iteration reached before convergence. Consider increasing max_iter to improve the fit.\n",
      "  warnings.warn(\n",
      "C:\\Users\\xveen\\anaconda3\\Lib\\site-packages\\sklearn\\linear_model\\_stochastic_gradient.py:723: ConvergenceWarning: Maximum number of iteration reached before convergence. Consider increasing max_iter to improve the fit.\n",
      "  warnings.warn(\n",
      "C:\\Users\\xveen\\anaconda3\\Lib\\site-packages\\sklearn\\linear_model\\_stochastic_gradient.py:723: ConvergenceWarning: Maximum number of iteration reached before convergence. Consider increasing max_iter to improve the fit.\n",
      "  warnings.warn(\n",
      "C:\\Users\\xveen\\anaconda3\\Lib\\site-packages\\sklearn\\linear_model\\_stochastic_gradient.py:723: ConvergenceWarning: Maximum number of iteration reached before convergence. Consider increasing max_iter to improve the fit.\n",
      "  warnings.warn(\n",
      "C:\\Users\\xveen\\anaconda3\\Lib\\site-packages\\sklearn\\linear_model\\_stochastic_gradient.py:723: ConvergenceWarning: Maximum number of iteration reached before convergence. Consider increasing max_iter to improve the fit.\n",
      "  warnings.warn(\n",
      "C:\\Users\\xveen\\anaconda3\\Lib\\site-packages\\sklearn\\linear_model\\_stochastic_gradient.py:723: ConvergenceWarning: Maximum number of iteration reached before convergence. Consider increasing max_iter to improve the fit.\n",
      "  warnings.warn(\n",
      "C:\\Users\\xveen\\anaconda3\\Lib\\site-packages\\sklearn\\linear_model\\_stochastic_gradient.py:723: ConvergenceWarning: Maximum number of iteration reached before convergence. Consider increasing max_iter to improve the fit.\n",
      "  warnings.warn(\n",
      "C:\\Users\\xveen\\anaconda3\\Lib\\site-packages\\sklearn\\linear_model\\_stochastic_gradient.py:723: ConvergenceWarning: Maximum number of iteration reached before convergence. Consider increasing max_iter to improve the fit.\n",
      "  warnings.warn(\n",
      "C:\\Users\\xveen\\anaconda3\\Lib\\site-packages\\sklearn\\linear_model\\_stochastic_gradient.py:723: ConvergenceWarning: Maximum number of iteration reached before convergence. Consider increasing max_iter to improve the fit.\n",
      "  warnings.warn(\n",
      "C:\\Users\\xveen\\anaconda3\\Lib\\site-packages\\sklearn\\linear_model\\_stochastic_gradient.py:723: ConvergenceWarning: Maximum number of iteration reached before convergence. Consider increasing max_iter to improve the fit.\n",
      "  warnings.warn(\n",
      "C:\\Users\\xveen\\anaconda3\\Lib\\site-packages\\sklearn\\linear_model\\_stochastic_gradient.py:723: ConvergenceWarning: Maximum number of iteration reached before convergence. Consider increasing max_iter to improve the fit.\n",
      "  warnings.warn(\n",
      "C:\\Users\\xveen\\anaconda3\\Lib\\site-packages\\sklearn\\linear_model\\_stochastic_gradient.py:723: ConvergenceWarning: Maximum number of iteration reached before convergence. Consider increasing max_iter to improve the fit.\n",
      "  warnings.warn(\n",
      "C:\\Users\\xveen\\anaconda3\\Lib\\site-packages\\sklearn\\linear_model\\_stochastic_gradient.py:723: ConvergenceWarning: Maximum number of iteration reached before convergence. Consider increasing max_iter to improve the fit.\n",
      "  warnings.warn(\n",
      "C:\\Users\\xveen\\anaconda3\\Lib\\site-packages\\sklearn\\linear_model\\_stochastic_gradient.py:723: ConvergenceWarning: Maximum number of iteration reached before convergence. Consider increasing max_iter to improve the fit.\n",
      "  warnings.warn(\n",
      "C:\\Users\\xveen\\anaconda3\\Lib\\site-packages\\sklearn\\linear_model\\_stochastic_gradient.py:723: ConvergenceWarning: Maximum number of iteration reached before convergence. Consider increasing max_iter to improve the fit.\n",
      "  warnings.warn(\n",
      "C:\\Users\\xveen\\anaconda3\\Lib\\site-packages\\sklearn\\linear_model\\_stochastic_gradient.py:723: ConvergenceWarning: Maximum number of iteration reached before convergence. Consider increasing max_iter to improve the fit.\n",
      "  warnings.warn(\n",
      "C:\\Users\\xveen\\anaconda3\\Lib\\site-packages\\sklearn\\linear_model\\_stochastic_gradient.py:723: ConvergenceWarning: Maximum number of iteration reached before convergence. Consider increasing max_iter to improve the fit.\n",
      "  warnings.warn(\n",
      "C:\\Users\\xveen\\anaconda3\\Lib\\site-packages\\sklearn\\linear_model\\_stochastic_gradient.py:723: ConvergenceWarning: Maximum number of iteration reached before convergence. Consider increasing max_iter to improve the fit.\n",
      "  warnings.warn(\n",
      "C:\\Users\\xveen\\anaconda3\\Lib\\site-packages\\sklearn\\linear_model\\_stochastic_gradient.py:723: ConvergenceWarning: Maximum number of iteration reached before convergence. Consider increasing max_iter to improve the fit.\n",
      "  warnings.warn(\n",
      "C:\\Users\\xveen\\anaconda3\\Lib\\site-packages\\sklearn\\linear_model\\_stochastic_gradient.py:723: ConvergenceWarning: Maximum number of iteration reached before convergence. Consider increasing max_iter to improve the fit.\n",
      "  warnings.warn(\n",
      "C:\\Users\\xveen\\anaconda3\\Lib\\site-packages\\sklearn\\linear_model\\_stochastic_gradient.py:723: ConvergenceWarning: Maximum number of iteration reached before convergence. Consider increasing max_iter to improve the fit.\n",
      "  warnings.warn(\n",
      "C:\\Users\\xveen\\anaconda3\\Lib\\site-packages\\sklearn\\linear_model\\_stochastic_gradient.py:723: ConvergenceWarning: Maximum number of iteration reached before convergence. Consider increasing max_iter to improve the fit.\n",
      "  warnings.warn(\n",
      "C:\\Users\\xveen\\anaconda3\\Lib\\site-packages\\sklearn\\linear_model\\_stochastic_gradient.py:723: ConvergenceWarning: Maximum number of iteration reached before convergence. Consider increasing max_iter to improve the fit.\n",
      "  warnings.warn(\n",
      "C:\\Users\\xveen\\anaconda3\\Lib\\site-packages\\sklearn\\linear_model\\_stochastic_gradient.py:723: ConvergenceWarning: Maximum number of iteration reached before convergence. Consider increasing max_iter to improve the fit.\n",
      "  warnings.warn(\n",
      "C:\\Users\\xveen\\anaconda3\\Lib\\site-packages\\sklearn\\linear_model\\_stochastic_gradient.py:723: ConvergenceWarning: Maximum number of iteration reached before convergence. Consider increasing max_iter to improve the fit.\n",
      "  warnings.warn(\n",
      "C:\\Users\\xveen\\anaconda3\\Lib\\site-packages\\sklearn\\linear_model\\_stochastic_gradient.py:723: ConvergenceWarning: Maximum number of iteration reached before convergence. Consider increasing max_iter to improve the fit.\n",
      "  warnings.warn(\n",
      "C:\\Users\\xveen\\anaconda3\\Lib\\site-packages\\sklearn\\linear_model\\_stochastic_gradient.py:723: ConvergenceWarning: Maximum number of iteration reached before convergence. Consider increasing max_iter to improve the fit.\n",
      "  warnings.warn(\n",
      "C:\\Users\\xveen\\anaconda3\\Lib\\site-packages\\sklearn\\linear_model\\_stochastic_gradient.py:723: ConvergenceWarning: Maximum number of iteration reached before convergence. Consider increasing max_iter to improve the fit.\n",
      "  warnings.warn(\n",
      "C:\\Users\\xveen\\anaconda3\\Lib\\site-packages\\sklearn\\linear_model\\_stochastic_gradient.py:723: ConvergenceWarning: Maximum number of iteration reached before convergence. Consider increasing max_iter to improve the fit.\n",
      "  warnings.warn(\n",
      "C:\\Users\\xveen\\anaconda3\\Lib\\site-packages\\sklearn\\linear_model\\_stochastic_gradient.py:723: ConvergenceWarning: Maximum number of iteration reached before convergence. Consider increasing max_iter to improve the fit.\n",
      "  warnings.warn(\n",
      "C:\\Users\\xveen\\anaconda3\\Lib\\site-packages\\sklearn\\linear_model\\_stochastic_gradient.py:723: ConvergenceWarning: Maximum number of iteration reached before convergence. Consider increasing max_iter to improve the fit.\n",
      "  warnings.warn(\n",
      "C:\\Users\\xveen\\anaconda3\\Lib\\site-packages\\sklearn\\linear_model\\_stochastic_gradient.py:723: ConvergenceWarning: Maximum number of iteration reached before convergence. Consider increasing max_iter to improve the fit.\n",
      "  warnings.warn(\n",
      "C:\\Users\\xveen\\anaconda3\\Lib\\site-packages\\sklearn\\linear_model\\_stochastic_gradient.py:723: ConvergenceWarning: Maximum number of iteration reached before convergence. Consider increasing max_iter to improve the fit.\n",
      "  warnings.warn(\n",
      "C:\\Users\\xveen\\anaconda3\\Lib\\site-packages\\sklearn\\linear_model\\_stochastic_gradient.py:723: ConvergenceWarning: Maximum number of iteration reached before convergence. Consider increasing max_iter to improve the fit.\n",
      "  warnings.warn(\n",
      "C:\\Users\\xveen\\anaconda3\\Lib\\site-packages\\sklearn\\linear_model\\_stochastic_gradient.py:723: ConvergenceWarning: Maximum number of iteration reached before convergence. Consider increasing max_iter to improve the fit.\n",
      "  warnings.warn(\n",
      "C:\\Users\\xveen\\anaconda3\\Lib\\site-packages\\sklearn\\linear_model\\_stochastic_gradient.py:723: ConvergenceWarning: Maximum number of iteration reached before convergence. Consider increasing max_iter to improve the fit.\n",
      "  warnings.warn(\n",
      "C:\\Users\\xveen\\anaconda3\\Lib\\site-packages\\sklearn\\linear_model\\_stochastic_gradient.py:723: ConvergenceWarning: Maximum number of iteration reached before convergence. Consider increasing max_iter to improve the fit.\n",
      "  warnings.warn(\n",
      "C:\\Users\\xveen\\anaconda3\\Lib\\site-packages\\sklearn\\linear_model\\_stochastic_gradient.py:723: ConvergenceWarning: Maximum number of iteration reached before convergence. Consider increasing max_iter to improve the fit.\n",
      "  warnings.warn(\n",
      "C:\\Users\\xveen\\anaconda3\\Lib\\site-packages\\sklearn\\linear_model\\_stochastic_gradient.py:723: ConvergenceWarning: Maximum number of iteration reached before convergence. Consider increasing max_iter to improve the fit.\n",
      "  warnings.warn(\n",
      "C:\\Users\\xveen\\anaconda3\\Lib\\site-packages\\sklearn\\linear_model\\_stochastic_gradient.py:723: ConvergenceWarning: Maximum number of iteration reached before convergence. Consider increasing max_iter to improve the fit.\n",
      "  warnings.warn(\n",
      "C:\\Users\\xveen\\anaconda3\\Lib\\site-packages\\sklearn\\linear_model\\_stochastic_gradient.py:723: ConvergenceWarning: Maximum number of iteration reached before convergence. Consider increasing max_iter to improve the fit.\n",
      "  warnings.warn(\n"
     ]
    },
    {
     "name": "stdout",
     "output_type": "stream",
     "text": [
      "Best parameters for SGD: {'sgd__alpha': 0.1, 'sgd__eta0': 0.01, 'sgd__learning_rate': 'constant', 'sgd__loss': 'perceptron', 'sgd__penalty': 'l2'}\n"
     ]
    }
   ],
   "source": [
    "from sklearn.linear_model import SGDClassifier\n",
    "\n",
    "# Put the pipeline with the appropriate model \n",
    "sgd_pl = Pipeline([\n",
    "    ('preprocessing', preproc_pl),\n",
    "    ('sgd', SGDClassifier(random_state=42))\n",
    "])\n",
    "# Define the parameter grid for the SGD Classifier\n",
    "param_grid_sgd = {\n",
    "    'sgd__loss': ['hinge', 'log_loss', 'modified_huber', 'squared_hinge', 'perceptron'],\n",
    "    'sgd__penalty': ['l2', 'l1', 'elasticnet'],\n",
    "    'sgd__alpha': [0.1, 1, 10, 100],\n",
    "    'sgd__learning_rate': ['constant', 'optimal', 'invscaling', 'adaptive'],\n",
    "    'sgd__eta0': [0.01, 0.1, 1, 10, 100]\n",
    "}\n",
    "\n",
    "# Use GridSearchCV with cv=5\n",
    "sgd_model = GridSearchCV(sgd_pl, param_grid=param_grid_sgd, cv=5, scoring=chosen_metric, verbose=1, return_train_score=True)\n",
    "\n",
    "# Fit the model to the training data\n",
    "sgd_model.fit(X_train, y_train)\n",
    "\n",
    "# Return best parameters in a dictionary\n",
    "sgd_best_parameters = sgd_model.best_params_\n",
    "print(\"Best parameters for SGD:\", sgd_best_parameters)"
   ]
  },
  {
   "cell_type": "markdown",
   "id": "d8422df3-d425-4527-ae68-3baea71b7348",
   "metadata": {},
   "source": [
    "### Step 14\n",
    "\n",
    "Considering the previous results using **GridSearchCV** for each one of the main classifiers, we then retrieve the obtained score using the best parameters in each case. Also indicating which are the three **best** models. "
   ]
  },
  {
   "cell_type": "code",
   "execution_count": 75,
   "id": "ec6510a0-32aa-4127-90ed-3863df7b02e0",
   "metadata": {},
   "outputs": [
    {
     "name": "stdout",
     "output_type": "stream",
     "text": [
      "Best Models: ['sgd', 'svc', 'knn']\n"
     ]
    }
   ],
   "source": [
    "# Assign the best score for each model \n",
    "knn_best_cv_scoring = knn_model.best_score_\n",
    "dt_best_cv_scoring = dt_model.best_score_\n",
    "svc_best_cv_scoring = svc_model.best_score_\n",
    "sgd_best_cv_scoring = sgd_model.best_score_\n",
    "\n",
    "# Map the model names to their scores\n",
    "model_scores = {\n",
    "    \"knn\": knn_best_cv_scoring,\n",
    "    \"dt\": dt_best_cv_scoring,\n",
    "    \"svc\": svc_best_cv_scoring,\n",
    "    \"sgd\": sgd_best_cv_scoring\n",
    "}\n",
    "\n",
    "# Sort the scores in descending order\n",
    "top_three_models = sorted(model_scores.items(), key=lambda x: x[1], reverse=True)[:3]\n",
    "\n",
    "'''\n",
    "What are the three best models so far? Assign a list of the three best models\n",
    "to the variable below (best to worst). The model options are \"knn\", \"dt\", \"svc\" or \"sgd\"\n",
    "'''\n",
    "best_models = [x[0] for x in top_three_models]\n",
    "print(\"Best Models:\", best_models)"
   ]
  },
  {
   "cell_type": "markdown",
   "id": "5e02182a-07d5-4fd8-bd4c-d91c097da578",
   "metadata": {},
   "source": [
    "### Step 15\n",
    "\n",
    "Once I have performed the search of the best parameters for each one of these models, I can display the general performance of each model using the next function **plot_compare_classifier_score**. An example plot using the function provided would look like the following:\n",
    "\n",
    "<center><img src=\"scoring_curves.jpg\" width=900 alt=\"Example loss curve plot\"></center>"
   ]
  },
  {
   "cell_type": "code",
   "execution_count": null,
   "id": "8dcafad1-cd1b-4b8f-9d13-b85e7d7af8c4",
   "metadata": {},
   "outputs": [],
   "source": [
    "# Function to check the performance of each parameter.\n",
    "def pooled_var(stds):\n",
    "    # https://en.wikipedia.org/wiki/Pooled_variance#Pooled_standard_deviation\n",
    "    n = 5 # size of each group\n",
    "    return np.sqrt(sum((n-1)*(stds**2))/ len(stds)*(n-1))\n",
    "\n",
    "# Function to create loss curves\n",
    "def plot_gridSearchCV_loss_curve(cv_results,grid_params,title):\n",
    "\n",
    "    df = pd.DataFrame(cv_results)\n",
    "    results = ['mean_test_score',\n",
    "               'mean_train_score',\n",
    "               'std_test_score',\n",
    "               'std_train_score']\n",
    "\n",
    "\n",
    "    fig, axes = plt.subplots(1, len(grid_params),\n",
    "                             figsize = (5*len(grid_params), 7),\n",
    "                             sharey='row')\n",
    "    axes[0].set_ylabel(\"Score\", fontsize=25)\n",
    "\n",
    "\n",
    "    for idx, (param_name, param_range) in enumerate(grid_params.items()):\n",
    "        grouped_df = df.groupby(f'param_{param_name}')[results]\\\n",
    "            .agg({'mean_train_score': 'mean',\n",
    "                  'mean_test_score': 'mean',\n",
    "                  'std_train_score': pooled_var,\n",
    "                  'std_test_score': pooled_var})\n",
    "\n",
    "        previous_group = df.groupby(f'param_{param_name}')[results]\n",
    "        axes[idx].set_xlabel(param_name, fontsize=30)\n",
    "        axes[idx].set_ylim(0.0, 1.1)\n",
    "        lw = 2\n",
    "        axes[idx].plot(param_range, grouped_df['mean_train_score'], label=\"Training score\",\n",
    "                    color=\"darkorange\", lw=lw)\n",
    "        axes[idx].fill_between(param_range,grouped_df['mean_train_score'] - grouped_df['std_train_score'],\n",
    "                        grouped_df['mean_train_score'] + grouped_df['std_train_score'], alpha=0.2,\n",
    "                        color=\"darkorange\", lw=lw)\n",
    "        axes[idx].plot(param_range, grouped_df['mean_test_score'], label=\"Cross-validation score\",\n",
    "                    color=\"navy\", lw=lw)\n",
    "        axes[idx].fill_between(param_range, grouped_df['mean_test_score'] - grouped_df['std_test_score'],\n",
    "                        grouped_df['mean_test_score'] + grouped_df['std_test_score'], alpha=0.2,\n",
    "                        color=\"navy\", lw=lw)\n",
    "\n",
    "    handles, labels = axes[0].get_legend_handles_labels()\n",
    "    fig.suptitle(f'{title} Validation curves', fontsize=30)\n",
    "    fig.legend(handles, labels, loc=8, ncol=2, fontsize=20)\n",
    "\n",
    "    fig.subplots_adjust(bottom=0.25, top=0.85)\n",
    "    plt.show()\n",
    "    \n",
    "# Check the performance for each model (knn, dt, svc and sgd). Use plot_gridSearchCV_loss_curve() function."
   ]
  },
  {
   "cell_type": "markdown",
   "id": "d4a4720b-c0a2-418a-b157-423a7652141d",
   "metadata": {},
   "source": [
    "## Step 16\n",
    "\n",
    "Having identified the best three models in Step 14, we train them using their best parameters on the training data, and then make predictions on the validation set. Finally, calculate and display the following metrics for each case:\n",
    "* recall\n",
    "* precision\n",
    "* auc score\n",
    "* f1 score\n",
    "\n",
    "The hurdle is that none of the above metrics should be below 0.8. We will use the function created in Step 05 to obtain the above metrics for each model."
   ]
  },
  {
   "cell_type": "code",
   "execution_count": 79,
   "id": "e0badbe5-d95f-4b50-950c-4265ee32cb06",
   "metadata": {},
   "outputs": [
    {
     "name": "stdout",
     "output_type": "stream",
     "text": [
      "Model 1 Metrics\n",
      "Recall:  0.8666666666666667\n",
      "Precision:  1.0\n",
      "AUC:  0.9333333333333333\n",
      "F1:  0.9285714285714286\n",
      "\n",
      "Model 2 Metrics\n",
      "Recall:  0.8666666666666667\n",
      "Precision:  1.0\n",
      "AUC:  0.9333333333333333\n",
      "F1:  0.9285714285714286\n",
      "\n",
      "Model 3 Metrics\n",
      "Recall:  0.8666666666666667\n",
      "Precision:  1.0\n",
      "AUC:  0.9333333333333333\n",
      "F1:  0.9285714285714286\n",
      "\n"
     ]
    }
   ],
   "source": [
    "predictions_model1 = sgd_model.predict(X_val)\n",
    "predictions_model2 = svc_model.predict(X_val)\n",
    "precictions_model3 = knn_model.predict(X_val)\n",
    "\n",
    "metrics_model1 = calculate_metrics(y_val, predictions_model1)\n",
    "metrics_model2 = calculate_metrics(y_val, predictions_model2)\n",
    "metrics_model3 = calculate_metrics(y_val, precictions_model3)\n",
    "\n",
    "for i, model in enumerate([predictions_model1, predictions_model2, precictions_model3]):\n",
    "    print(f\"Model {i+1} Metrics\")\n",
    "    print(\"Recall: \", metrics_model1[0])\n",
    "    print(\"Precision: \", metrics_model1[1])\n",
    "    print(\"AUC: \", metrics_model1[2])\n",
    "    print(\"F1: \", metrics_model1[3])\n",
    "    print()"
   ]
  },
  {
   "cell_type": "markdown",
   "id": "594fd304-2a5d-4d5c-a53b-a22532fc05ff",
   "metadata": {},
   "source": [
    "### Step 17\n",
    "\n",
    "**Final performance**\n",
    "\n",
    "Choose the best model of the top 3 obtained in **Step 14**. \n",
    "Calculate and display an unbiased performance measure that can be presented to the client."
   ]
  },
  {
   "cell_type": "code",
   "execution_count": 82,
   "id": "4be66d38-4e37-4536-af1b-02f176b31438",
   "metadata": {},
   "outputs": [
    {
     "name": "stdout",
     "output_type": "stream",
     "text": [
      "Chosen Performance Metric Result: 0.9666666666666667\n"
     ]
    }
   ],
   "source": [
    "'''\n",
    "Assign the training features, training labels that you would use for this step to the variables\n",
    "below.\n",
    "'''\n",
    "X_train_final, X_test_final, y_train_final, y_test_final = train_test_split(X, y, test_size=0.09, random_state=42, stratify=y)\n",
    "\n",
    "# Assign the best model to the variable below and train it\n",
    "final_model = sgd_model.best_estimator_\n",
    "final_model.fit(X_train_final, y_train_final)\n",
    "\n",
    "# Assign the predictions made from your chosen best model for the unbiased estimate to the variable below.\n",
    "predictions_final_model = final_model.predict(X_test)\n",
    "\n",
    "# Choose a performance metric based on the client's requirement and assign the result to the variable below.\n",
    "chosen_performance_metric_result = roc_auc_score(y_test, predictions_final_model)\n",
    "print(\"Chosen Performance Metric Result:\", chosen_performance_metric_result)"
   ]
  },
  {
   "cell_type": "markdown",
   "id": "220b4d8e-a947-49d5-9bf6-04f360718bfc",
   "metadata": {},
   "source": [
    "### Step 18\n",
    "\n",
    "**Rank features**\n",
    "\n",
    "Although it is only possible to know the true usefulness of a feature when you've combined it with others in a machine learning method, it is still helpful to have some measure for how discriminative each feature is on its own.  One common method for doing this is to calculate a *T-score* (often used in statistics, and in the **LDA** machine learning method) for each feature. The formula for the *T-score* is \n",
    "\n",
    "$$\n",
    "  T_{score} =  \\frac{(mean(x_{2}) - mean(x_{1}))}{0.5(stddev(x_{2}) + stddev(x_{1}))}\n",
    "$$\n",
    "\n",
    "where $x_{1}$ and $x_{2}$ are the datasets corresponding to the two classes. Large values for the *T-score* (either positive or negative) indicate discriminative ability. Define a function which returns this *T-score*. For this process use the entire dataset.\n",
    "\n",
    "**Using the defined function, calculate the *T-score* for each feature and obtain the best 4 features according to this score.**"
   ]
  },
  {
   "cell_type": "code",
   "execution_count": 85,
   "id": "f32417cf-4791-4c1c-81eb-4272dd4a6dd0",
   "metadata": {},
   "outputs": [
    {
     "name": "stdout",
     "output_type": "stream",
     "text": [
      "Best Four Features: ['worst concave points', 'worst perimeter', 'worst radius', 'mean concave points']\n"
     ]
    }
   ],
   "source": [
    "# Implement this function to calculate T score\n",
    "def calculate_t_score(x1, x2):\n",
    "    mean1, mean2 = np.mean(x1), np.mean(x2)\n",
    "    std1, std2 = np.std(x1), np.std(x2)\n",
    "    t_score = (mean2 - mean1) / (0.5 * (std1 + std2))\n",
    "    return t_score\n",
    "\n",
    "# Split the training data into two datasets corresponding to the two classes\n",
    "X_train_benign = X_train_final[y_train_final == 0]\n",
    "X_train_malignant = X_train_final[y_train_final == 1]\n",
    "\n",
    "# Calculate the T score for the feature\n",
    "t_scores = []\n",
    "for feature in range(X_train_final.shape[1]):\n",
    "    t_score = calculate_t_score(X_train_benign.iloc[:, feature], X_train_malignant.iloc[:, feature])\n",
    "    t_scores.append(t_score)\n",
    "\n",
    "# Assign the top 4 features (in order) to this variable. It should be a list containing 4 feature names (strings).\n",
    "top4_idx = np.argsort(np.abs(t_scores))[::-1][:4]\n",
    "best_four_features = feature_names[top4_idx].tolist()\n",
    "print(\"Best Four Features:\", best_four_features)"
   ]
  },
  {
   "cell_type": "markdown",
   "id": "aea50305-09cf-4468-90a4-3ad0b3d51510",
   "metadata": {},
   "source": [
    "### Step 19\n",
    "\n",
    "You can visualise the results given by your model using a decision boundary. For this step, we use the best two features (based on the previos step) and create a decision boundary plot. For this, we use the best model obtained from Step17. The visualisation of decision boundaries will be done using `DecisionBoundaryDisplay` from sklearn.inspection."
   ]
  },
  {
   "cell_type": "code",
   "execution_count": 88,
   "id": "bf1c9c5b-70d0-4390-8871-0b4532e46b4b",
   "metadata": {},
   "outputs": [
    {
     "data": {
      "image/png": "[encoded data removed]",
      "text/plain": [
       "<Figure size 1536x1152 with 1 Axes>"
      ]
     },
     "metadata": {},
     "output_type": "display_data"
    }
   ],
   "source": [
    "from sklearn.inspection import DecisionBoundaryDisplay\n",
    "\n",
    "# Assign the name of the best feature obtained in step18 to the variable below. (string)\n",
    "feature_one = best_four_features[0]\n",
    "\n",
    "# Assign the name of the second best feature obtained in step18 to the variable below. (string)\n",
    "feature_two = best_four_features[1]\n",
    "\n",
    "# Assign the training dataset that you would want to use for this step to the variable below\n",
    "data2d = X_train_final[[feature_one, feature_two]] \n",
    "\n",
    "final_model.fit(data2d, y_train_final)\n",
    "disp_step19 = DecisionBoundaryDisplay.from_estimator(final_model, data2d)\n",
    "\n",
    "# Plotting the data points. Use this to create the scatter plot\n",
    "disp_step19.ax_.scatter(X_train[feature_one], X_train[feature_two],\n",
    "                        c=y_train, edgecolor=\"k\",\n",
    "                        cmap=plt.cm.coolwarm)\n",
    "plt.xlim(-0.3, 0.3)\n",
    "plt.title(f\"Decision surface for tree trained on {feature_one} and {feature_two}\")\n",
    "plt.show()"
   ]
  },
  {
   "cell_type": "markdown",
   "id": "785ff2be-ed18-4cb4-88e9-d23a25f0bcaf",
   "metadata": {},
   "source": [
    "## Second Round\n",
    "\n",
    "After presenting our initial results to the client, they come back to us and say that they have done some financial analysis and it would save them a lot of time and money if they did not have to analyse every cell, which is needed to get the \"worst\" features. Instead, they can quickly get accurate estimates for the \"mean\" and \"standard error\" features from a much smaller, randomly selected set of cells.\n",
    "\n",
    "They ask us to **give them a performance estimate for the same problem, but without using any of the \"worst\" features.**"
   ]
  },
  {
   "cell_type": "markdown",
   "id": "b7f3481a-82f4-44f3-8dec-3a91a9dc1200",
   "metadata": {},
   "source": [
    "### Step 20\n",
    "\n",
    "Let's create a new dataset according to the specifications of the client in round 2. After that, split the data appropriately."
   ]
  },
  {
   "cell_type": "code",
   "execution_count": 92,
   "id": "36277d78-fa0b-4a8e-a1e0-bcbcfc150887",
   "metadata": {},
   "outputs": [
    {
     "name": "stdout",
     "output_type": "stream",
     "text": [
      "Training set size (second round): 180\n",
      "Validation set size (second round): 60\n",
      "Test set size (second round): 60\n"
     ]
    }
   ],
   "source": [
    "# Assign the data to each variable appropriately\n",
    "data_r2 = data.drop(columns=worst_group.columns)\n",
    "\n",
    "X_r2 = data_r2.drop('label', axis=1)\n",
    "y_r2 = data_r2['label']\n",
    "\n",
    "X_train_r2, X_test_r2, y_train_r2, y_test_r2 = train_test_split(X_r2, y_r2, test_size=0.2, random_state=42, stratify=y_r2)\n",
    "X_train_r2, X_val_r2, y_train_r2, y_val_r2 = train_test_split(X_train_r2, y_train_r2, test_size=0.25, random_state=42, stratify=y_train_r2)\n",
    "\n",
    "# Print the size of each resulting subset\n",
    "print(\"Training set size (second round):\", len(X_train_r2))\n",
    "print(\"Validation set size (second round):\", len(X_val_r2))\n",
    "print(\"Test set size (second round):\", len(X_test_r2))"
   ]
  },
  {
   "cell_type": "markdown",
   "id": "57725920-a1b1-45f0-b41c-315588643f7a",
   "metadata": {},
   "source": [
    "### Step 21\n",
    "Train the best model obtained in the first round on the new dataset and find the best parameters."
   ]
  },
  {
   "cell_type": "code",
   "execution_count": 95,
   "id": "62d04b55-0941-4463-8f65-ba2f9bae43df",
   "metadata": {},
   "outputs": [
    {
     "name": "stdout",
     "output_type": "stream",
     "text": [
      "Fitting 2 folds for each of 1200 candidates, totalling 2400 fits\n"
     ]
    },
    {
     "name": "stderr",
     "output_type": "stream",
     "text": [
      "C:\\Users\\xveen\\anaconda3\\Lib\\site-packages\\sklearn\\linear_model\\_stochastic_gradient.py:723: ConvergenceWarning: Maximum number of iteration reached before convergence. Consider increasing max_iter to improve the fit.\n",
      "  warnings.warn(\n",
      "C:\\Users\\xveen\\anaconda3\\Lib\\site-packages\\sklearn\\linear_model\\_stochastic_gradient.py:723: ConvergenceWarning: Maximum number of iteration reached before convergence. Consider increasing max_iter to improve the fit.\n",
      "  warnings.warn(\n",
      "C:\\Users\\xveen\\anaconda3\\Lib\\site-packages\\sklearn\\linear_model\\_stochastic_gradient.py:723: ConvergenceWarning: Maximum number of iteration reached before convergence. Consider increasing max_iter to improve the fit.\n",
      "  warnings.warn(\n",
      "C:\\Users\\xveen\\anaconda3\\Lib\\site-packages\\sklearn\\linear_model\\_stochastic_gradient.py:723: ConvergenceWarning: Maximum number of iteration reached before convergence. Consider increasing max_iter to improve the fit.\n",
      "  warnings.warn(\n",
      "C:\\Users\\xveen\\anaconda3\\Lib\\site-packages\\sklearn\\linear_model\\_stochastic_gradient.py:723: ConvergenceWarning: Maximum number of iteration reached before convergence. Consider increasing max_iter to improve the fit.\n",
      "  warnings.warn(\n",
      "C:\\Users\\xveen\\anaconda3\\Lib\\site-packages\\sklearn\\linear_model\\_stochastic_gradient.py:723: ConvergenceWarning: Maximum number of iteration reached before convergence. Consider increasing max_iter to improve the fit.\n",
      "  warnings.warn(\n",
      "C:\\Users\\xveen\\anaconda3\\Lib\\site-packages\\sklearn\\linear_model\\_stochastic_gradient.py:723: ConvergenceWarning: Maximum number of iteration reached before convergence. Consider increasing max_iter to improve the fit.\n",
      "  warnings.warn(\n",
      "C:\\Users\\xveen\\anaconda3\\Lib\\site-packages\\sklearn\\linear_model\\_stochastic_gradient.py:723: ConvergenceWarning: Maximum number of iteration reached before convergence. Consider increasing max_iter to improve the fit.\n",
      "  warnings.warn(\n",
      "C:\\Users\\xveen\\anaconda3\\Lib\\site-packages\\sklearn\\linear_model\\_stochastic_gradient.py:723: ConvergenceWarning: Maximum number of iteration reached before convergence. Consider increasing max_iter to improve the fit.\n",
      "  warnings.warn(\n",
      "C:\\Users\\xveen\\anaconda3\\Lib\\site-packages\\sklearn\\linear_model\\_stochastic_gradient.py:723: ConvergenceWarning: Maximum number of iteration reached before convergence. Consider increasing max_iter to improve the fit.\n",
      "  warnings.warn(\n",
      "C:\\Users\\xveen\\anaconda3\\Lib\\site-packages\\sklearn\\linear_model\\_stochastic_gradient.py:723: ConvergenceWarning: Maximum number of iteration reached before convergence. Consider increasing max_iter to improve the fit.\n",
      "  warnings.warn(\n",
      "C:\\Users\\xveen\\anaconda3\\Lib\\site-packages\\sklearn\\linear_model\\_stochastic_gradient.py:723: ConvergenceWarning: Maximum number of iteration reached before convergence. Consider increasing max_iter to improve the fit.\n",
      "  warnings.warn(\n",
      "C:\\Users\\xveen\\anaconda3\\Lib\\site-packages\\sklearn\\linear_model\\_stochastic_gradient.py:723: ConvergenceWarning: Maximum number of iteration reached before convergence. Consider increasing max_iter to improve the fit.\n",
      "  warnings.warn(\n",
      "C:\\Users\\xveen\\anaconda3\\Lib\\site-packages\\sklearn\\linear_model\\_stochastic_gradient.py:723: ConvergenceWarning: Maximum number of iteration reached before convergence. Consider increasing max_iter to improve the fit.\n",
      "  warnings.warn(\n",
      "C:\\Users\\xveen\\anaconda3\\Lib\\site-packages\\sklearn\\linear_model\\_stochastic_gradient.py:723: ConvergenceWarning: Maximum number of iteration reached before convergence. Consider increasing max_iter to improve the fit.\n",
      "  warnings.warn(\n"
     ]
    },
    {
     "name": "stdout",
     "output_type": "stream",
     "text": [
      "best_parameters_r2: {'sgd__alpha': 0.1, 'sgd__eta0': 1, 'sgd__learning_rate': 'adaptive', 'sgd__loss': 'perceptron', 'sgd__penalty': 'elasticnet'}\n",
      "Validation Metrics\n",
      "Accuracy:  0.9333333333333333\n",
      "Recall:  0.896551724137931\n",
      "Precision:  0.9629629629629629\n",
      "F1:  0.9285714285714286\n",
      "AUC:  0.932146829810901\n"
     ]
    }
   ],
   "source": [
    "from sklearn.metrics import accuracy_score\n",
    "\n",
    "# Assign the GridSearchCV instance you have obtained in this step to the variable below.\n",
    "final_model_r2 = GridSearchCV(sgd_pl, param_grid=param_grid_sgd, cv=2, scoring=chosen_metric, verbose=1, return_train_score=True)\n",
    "\n",
    "# Fit the model to the training data\n",
    "final_model_r2.fit(X_train_r2, y_train_r2)\n",
    "\n",
    "# Assign the best parameter dictionary to the variable below.\n",
    "best_parameters_r2 = final_model_r2.best_params_\n",
    "\n",
    "# Output best parameters for second round\n",
    "print(f'best_parameters_r2: {final_model_r2.best_params_}')\n",
    "\n",
    "# 1. Predict on the validation set\n",
    "y_pred_val = final_model_r2.predict(X_val_r2)\n",
    "\n",
    "# 2. Calculate performance metrics\n",
    "accuracy_val = accuracy_score(y_val_r2, y_pred_val)\n",
    "recall_val = recall_score(y_val_r2, y_pred_val)\n",
    "precision_val = precision_score(y_val_r2, y_pred_val)\n",
    "f1_val = f1_score(y_val_r2, y_pred_val)\n",
    "\n",
    "print(\"Validation Metrics\")\n",
    "print(\"Accuracy: \", accuracy_val)\n",
    "print(\"Recall: \", recall_val)\n",
    "print(\"Precision: \", precision_val)\n",
    "print(\"F1: \", f1_val)\n",
    "\n",
    "# If the model provides probability estimates of the positive class,\n",
    "# use them for AUC score calculation; else, use the predictions directly\n",
    "auc_val = roc_auc_score(y_val_r2, y_pred_val)\n",
    "\n",
    "print(\"AUC: \", auc_val)\n",
    "\n",
    "# The following code is used by the autograder.\n",
    "step21_data = {\n",
    "    \"final_model_r2\": final_model_r2,\n",
    "    \"best_parameters_r2\": best_parameters_r2,\n",
    "    \"validation_metrics\": {\n",
    "        \"accuracy\": accuracy_val,\n",
    "        \"recall\": recall_val,\n",
    "        \"precision\": precision_val,\n",
    "        \"f1\": f1_val,\n",
    "        \"auc\": auc_val\n",
    "    },\n",
    "    \"validation_predictions\": y_pred_val\n",
    "}"
   ]
  },
  {
   "cell_type": "markdown",
   "id": "c2ae62a7-8994-4cc5-90ec-ae6e7e3e395a",
   "metadata": {},
   "source": [
    "### Step 22\n",
    "Considering the best parameters identified in the previous step, train your best model using those parameters and calculate and display an unbiased performance measure."
   ]
  },
  {
   "cell_type": "code",
   "execution_count": 97,
   "id": "aaf2fa85-97da-4d2e-a93c-14b3728a28aa",
   "metadata": {},
   "outputs": [
    {
     "name": "stdout",
     "output_type": "stream",
     "text": [
      "Fitting 2 folds for each of 1200 candidates, totalling 2400 fits\n"
     ]
    },
    {
     "name": "stderr",
     "output_type": "stream",
     "text": [
      "C:\\Users\\xveen\\anaconda3\\Lib\\site-packages\\sklearn\\linear_model\\_stochastic_gradient.py:723: ConvergenceWarning: Maximum number of iteration reached before convergence. Consider increasing max_iter to improve the fit.\n",
      "  warnings.warn(\n",
      "C:\\Users\\xveen\\anaconda3\\Lib\\site-packages\\sklearn\\linear_model\\_stochastic_gradient.py:723: ConvergenceWarning: Maximum number of iteration reached before convergence. Consider increasing max_iter to improve the fit.\n",
      "  warnings.warn(\n",
      "C:\\Users\\xveen\\anaconda3\\Lib\\site-packages\\sklearn\\linear_model\\_stochastic_gradient.py:723: ConvergenceWarning: Maximum number of iteration reached before convergence. Consider increasing max_iter to improve the fit.\n",
      "  warnings.warn(\n",
      "C:\\Users\\xveen\\anaconda3\\Lib\\site-packages\\sklearn\\linear_model\\_stochastic_gradient.py:723: ConvergenceWarning: Maximum number of iteration reached before convergence. Consider increasing max_iter to improve the fit.\n",
      "  warnings.warn(\n",
      "C:\\Users\\xveen\\anaconda3\\Lib\\site-packages\\sklearn\\linear_model\\_stochastic_gradient.py:723: ConvergenceWarning: Maximum number of iteration reached before convergence. Consider increasing max_iter to improve the fit.\n",
      "  warnings.warn(\n",
      "C:\\Users\\xveen\\anaconda3\\Lib\\site-packages\\sklearn\\linear_model\\_stochastic_gradient.py:723: ConvergenceWarning: Maximum number of iteration reached before convergence. Consider increasing max_iter to improve the fit.\n",
      "  warnings.warn(\n",
      "C:\\Users\\xveen\\anaconda3\\Lib\\site-packages\\sklearn\\linear_model\\_stochastic_gradient.py:723: ConvergenceWarning: Maximum number of iteration reached before convergence. Consider increasing max_iter to improve the fit.\n",
      "  warnings.warn(\n",
      "C:\\Users\\xveen\\anaconda3\\Lib\\site-packages\\sklearn\\linear_model\\_stochastic_gradient.py:723: ConvergenceWarning: Maximum number of iteration reached before convergence. Consider increasing max_iter to improve the fit.\n",
      "  warnings.warn(\n",
      "C:\\Users\\xveen\\anaconda3\\Lib\\site-packages\\sklearn\\linear_model\\_stochastic_gradient.py:723: ConvergenceWarning: Maximum number of iteration reached before convergence. Consider increasing max_iter to improve the fit.\n",
      "  warnings.warn(\n",
      "C:\\Users\\xveen\\anaconda3\\Lib\\site-packages\\sklearn\\linear_model\\_stochastic_gradient.py:723: ConvergenceWarning: Maximum number of iteration reached before convergence. Consider increasing max_iter to improve the fit.\n",
      "  warnings.warn(\n",
      "C:\\Users\\xveen\\anaconda3\\Lib\\site-packages\\sklearn\\linear_model\\_stochastic_gradient.py:723: ConvergenceWarning: Maximum number of iteration reached before convergence. Consider increasing max_iter to improve the fit.\n",
      "  warnings.warn(\n",
      "C:\\Users\\xveen\\anaconda3\\Lib\\site-packages\\sklearn\\linear_model\\_stochastic_gradient.py:723: ConvergenceWarning: Maximum number of iteration reached before convergence. Consider increasing max_iter to improve the fit.\n",
      "  warnings.warn(\n",
      "C:\\Users\\xveen\\anaconda3\\Lib\\site-packages\\sklearn\\linear_model\\_stochastic_gradient.py:723: ConvergenceWarning: Maximum number of iteration reached before convergence. Consider increasing max_iter to improve the fit.\n",
      "  warnings.warn(\n",
      "C:\\Users\\xveen\\anaconda3\\Lib\\site-packages\\sklearn\\linear_model\\_stochastic_gradient.py:723: ConvergenceWarning: Maximum number of iteration reached before convergence. Consider increasing max_iter to improve the fit.\n",
      "  warnings.warn(\n",
      "C:\\Users\\xveen\\anaconda3\\Lib\\site-packages\\sklearn\\linear_model\\_stochastic_gradient.py:723: ConvergenceWarning: Maximum number of iteration reached before convergence. Consider increasing max_iter to improve the fit.\n",
      "  warnings.warn(\n",
      "C:\\Users\\xveen\\anaconda3\\Lib\\site-packages\\sklearn\\linear_model\\_stochastic_gradient.py:723: ConvergenceWarning: Maximum number of iteration reached before convergence. Consider increasing max_iter to improve the fit.\n",
      "  warnings.warn(\n",
      "C:\\Users\\xveen\\anaconda3\\Lib\\site-packages\\sklearn\\linear_model\\_stochastic_gradient.py:723: ConvergenceWarning: Maximum number of iteration reached before convergence. Consider increasing max_iter to improve the fit.\n",
      "  warnings.warn(\n",
      "C:\\Users\\xveen\\anaconda3\\Lib\\site-packages\\sklearn\\linear_model\\_stochastic_gradient.py:723: ConvergenceWarning: Maximum number of iteration reached before convergence. Consider increasing max_iter to improve the fit.\n",
      "  warnings.warn(\n",
      "C:\\Users\\xveen\\anaconda3\\Lib\\site-packages\\sklearn\\linear_model\\_stochastic_gradient.py:723: ConvergenceWarning: Maximum number of iteration reached before convergence. Consider increasing max_iter to improve the fit.\n",
      "  warnings.warn(\n",
      "C:\\Users\\xveen\\anaconda3\\Lib\\site-packages\\sklearn\\linear_model\\_stochastic_gradient.py:723: ConvergenceWarning: Maximum number of iteration reached before convergence. Consider increasing max_iter to improve the fit.\n",
      "  warnings.warn(\n"
     ]
    }
   ],
   "source": [
    "X_train_final_r2, X_test_final_r2, y_train_final_r2, y_test_final_r2 = train_test_split(X_r2, y_r2, test_size=0.09, random_state=42, stratify=y_r2)\n",
    "\n",
    "# Assign the best model you have trained again in order to get an unbiased performance estimate.\n",
    "# final_model_r2 = final_model_r2\n",
    "\n",
    "# Fit the model to the training data\n",
    "final_model_r2.fit(X_train_final_r2, y_train_final_r2)\n",
    "\n",
    "# Assign the predictions made from your chosen best model for the unbiased estimate to the variable below.\n",
    "predictions_final_model_r2 = final_model_r2.predict(X_test_r2)\n",
    "\n",
    "# Choose a performance metric based on the client's requirement and assign the result to the variable below.\n",
    "performance_metric_result_r2 = roc_auc_score(y_test_r2, predictions_final_model_r2)"
   ]
  },
  {
   "cell_type": "markdown",
   "id": "e157afd9-d833-435e-800f-c7f9b1163fcd",
   "metadata": {},
   "source": [
    "### Step 23\n",
    "For this step we need to compare the final performance obtained in round 1 with the performance given in round 2. We will use the results from Step 17 and Step 22."
   ]
  },
  {
   "cell_type": "code",
   "execution_count": 101,
   "id": "aa207dea-f962-49a7-95e9-ca0e2a5d4da3",
   "metadata": {},
   "outputs": [
    {
     "name": "stdout",
     "output_type": "stream",
     "text": [
      "Final Performance for 1st round: 0.9666666666666667\n",
      "Final Performance for 2nd round: 0.932146829810901\n",
      "Final Answer: r1\n"
     ]
    }
   ],
   "source": [
    "# Final performance for 1st round\n",
    "final_performance_r1 = chosen_performance_metric_result\n",
    "print(\"Final Performance for 1st round:\", final_performance_r1)\n",
    "\n",
    "# Final performance for 2nd round\n",
    "final_performance_r2 = performance_metric_result_r2\n",
    "print(\"Final Performance for 2nd round:\", final_performance_r2)\n",
    "\n",
    "# What is your best model, \"r1\" or \"r2\". Put your answer in the variable final_answer (example: final_answer = \"r2\")\n",
    "final_answer = \"r2\" if final_performance_r2 > final_performance_r1 else \"r1\"\n",
    "print(\"Final Answer:\", final_answer)"
   ]
  },
  {
   "cell_type": "markdown",
   "id": "b4d09c85-4059-4048-9250-7c8f3aa1533b",
   "metadata": {},
   "source": [
    "### Step 24\n",
    "\n",
    "WOOHOO! We have now gone through the rigorous process of testinf and evaluating different models with various parameters and in diverse circumstances, we now have a robust model capable of generalising well to unseen data.\n",
    "\n",
    "Let's assume that the client has provided data about a new patient in a table format, and is expecting us to make a prediction about the person's condition as soon as possible. The following table contains the information provided by the client:\n",
    "\n",
    "| Characteristic | Value |\n",
    "| --- | --- |\n",
    "| mean radius |13.970546 | \n",
    "| mean texture|15.660529 | \n",
    "| mean perimeter | 91.432976| \n",
    "| mean area |600.575775 | \n",
    "| mean smoothness |0.099883 | \n",
    "| mean compactness | NaN| \n",
    "| mean concavity | 0.07505| \n",
    "| mean concave points | 0.023223| \n",
    "| mean symmetry | 0.186472| \n",
    "| mean fractal dimension | 0.05446|\n",
    "| radius error | 0.321022 | \n",
    "| texture error |1.044633 | \n",
    "| perimeter error |2.324773 | \n",
    "| area error |31.333479 | \n",
    "| smoothness error | 0.005675| \n",
    "| compactness error |0.023401 | \n",
    "| concavity error |0.026742 | \n",
    "| concave points error |0.009808 | \n",
    "| symmetry error | 0.029254| \n",
    "| fractal dimension error |0.00325 |\n",
    "| worst radius |12.728135 | \n",
    "| worst texture | 23.476671| \n",
    "| worst perimeter |103.834522 | \n",
    "| worst area | 798.832368| \n",
    "| worst smoothness |0.130751 | \n",
    "| worst compactness |0.264469 | \n",
    "| worst concavity |0.247665 | \n",
    "| worst concave points | 0.100153| \n",
    "| worst symmetry |0.301228 | \n",
    "| worst fractal dimension |0.083051 |  \n",
    "\n",
    "Our goal is to inform them whether the sample corresponds to a benign or a malignant case. \n",
    "We will provide the class and also the probability that the sample belongs to the malignant class.\n",
    "\n",
    "If our best model corresponds to SGD using loss='perceptron', we can use decision_function instead of predict_proba to obtain the confidence score for our sample instead of the probability of belonging to the malignant class.\n"
   ]
  },
  {
   "cell_type": "code",
   "execution_count": 110,
   "id": "af3ff9d5-dade-474f-bfac-03c70f29293a",
   "metadata": {},
   "outputs": [
    {
     "name": "stdout",
     "output_type": "stream",
     "text": [
      "The class for this sample is  benign\n",
      "The probability / confidence score of belonging to malignant class is -0.004399145708702808\n"
     ]
    }
   ],
   "source": [
    "# Put your new data in form of a dataframe\n",
    "new_sample = pd.DataFrame({\n",
    "    'worst concave points': [0.100153],\n",
    "    'worst perimeter': [103.834522],\n",
    "})\n",
    "\n",
    "# Use the best model to predict. \n",
    "model = final_model_r2 if final_answer == \"r2\" else final_model\n",
    "\n",
    "# Prediction of the class. You need to say if the sample is bening or malignant (\"malignant\" or \"benign\")\n",
    "prediction_sample = \"malignant\" if model.predict(new_sample)[0] == 1 else \"benign\"\n",
    "\n",
    "# Probability or confidence score of the sample belonging to the malignant class\n",
    "probability_sample = model.decision_function(new_sample)[0]\n",
    "\n",
    "# Print your results\n",
    "print(\"The class for this sample is \", prediction_sample)\n",
    "\n",
    "# NOTE: in the case of SGD, Confidence score values will not be bounded within 0 and 1.\n",
    "print(\"The probability / confidence score of belonging to malignant class is\" , probability_sample)\n",
    "\n",
    "# The following code is used by the autograder\n",
    "step24_data = {\n",
    "    \"prediction_sample\": prediction_sample,\n",
    "    \"probability_sample\": probability_sample\n",
    "}"
   ]
  },
  {
   "cell_type": "markdown",
   "id": "7f9adce5-cc88-4f64-8ab0-81075772c325",
   "metadata": {},
   "source": [
    "#### ✨**Oveena Widyaratne** - University of Adelaide©, B. Compsci Y3 Project 2025✨"
   ]
  }
 ],
 "metadata": {
  "kernelspec": {
   "display_name": "Python 3 (ipykernel)",
   "language": "python",
   "name": "python3"
  },
  "language_info": {
   "codemirror_mode": {
    "name": "ipython",
    "version": 3
   },
   "file_extension": ".py",
   "mimetype": "text/x-python",
   "name": "python",
   "nbconvert_exporter": "python",
   "pygments_lexer": "ipython3",
   "version": "3.12.4"
  }
 },
 "nbformat": 4,
 "nbformat_minor": 5
}
